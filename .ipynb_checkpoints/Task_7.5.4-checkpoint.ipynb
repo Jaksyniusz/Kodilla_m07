{
 "cells": [
  {
   "cell_type": "code",
   "execution_count": null,
   "id": "21e56673-a794-49dc-989f-fb486429f214",
   "metadata": {},
   "outputs": [],
   "source": [
    "import numpy as np\n",
    "\n",
    "# Zadanie 1\n",
    "Z = np.random.uniform(0, 1, 10)\n",
    "print(\"Wektor Z:\", Z)\n",
    "\n",
    "distances = np.abs(Z - 0.5)\n",
    "closest_index = np.argmin(distances)\n",
    "closest_value = Z[closest_index]\n",
    "\n",
    "print(\"Element najbliższy 0.5:\", closest_value)\n",
    "\n",
    "\n",
    "# Zadanie 2\n",
    "vector = np.random.rand(20)\n",
    "print(\"\\nWektor przed zamianą:\", vector)\n",
    "\n",
    "max_index = np.argmax(vector)\n",
    "vector[max_index] = 0\n",
    "\n",
    "print(\"Wektor po zamianie:\", vector)\n",
    "\n",
    "\n",
    "# Zadanie 3\n",
    "# Tworzenie tablicy\n",
    "arr = np.array([5, 0.0249139, 0.11873564, 0., 0.72321586, 11308494, 0.29931472, 0.24439968, 0.61251754, 4])\n",
    "\n",
    "# Sposób 1: np.floor()\n",
    "int_part_1 = np.floor(arr)\n",
    "print(\"Części całkowite (np.floor):\", int_part_1)\n",
    "\n",
    "# Sposób 2: astype(int)\n",
    "int_part_2 = arr.astype(int)\n",
    "print(\"Części całkowite (astype(int)):\", int_part_2)\n",
    "\n",
    "# Sposób 3: np.trunc()\n",
    "int_part_3 = np.trunc(arr)\n",
    "print(\"Części całkowite (np.trunc):\", int_part_3)\n"
   ]
  }
 ],
 "metadata": {
  "kernelspec": {
   "display_name": "Python 3 (ipykernel)",
   "language": "python",
   "name": "python3"
  },
  "language_info": {
   "codemirror_mode": {
    "name": "ipython",
    "version": 3
   },
   "file_extension": ".py",
   "mimetype": "text/x-python",
   "name": "python",
   "nbconvert_exporter": "python",
   "pygments_lexer": "ipython3",
   "version": "3.13.2"
  }
 },
 "nbformat": 4,
 "nbformat_minor": 5
}
