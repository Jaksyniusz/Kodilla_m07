{
 "cells": [
  {
   "cell_type": "code",
   "execution_count": null,
   "id": "fe906893-55d4-46d7-9200-f7cd9741518d",
   "metadata": {},
   "outputs": [],
   "source": [
    "import numpy as np\n",
    "\n",
    "# Zadanie 1: Wektor z przedziału (0, 1)\n",
    "vector = np.linspace(0, 1, num=12)[1:-1]\n",
    "print(\"Wektor z przedziału (0, 1):\")\n",
    "print(vector)\n",
    "\n",
    "# Zadanie 2: Macierz 5x5\n",
    "matrix = np.tile(np.arange(5), (5, 1))\n",
    "print(\"\\nMacierz 5x5:\")\n",
    "print(matrix)"
   ]
  }
 ],
 "metadata": {
  "kernelspec": {
   "display_name": "Python 3 (ipykernel)",
   "language": "python",
   "name": "python3"
  },
  "language_info": {
   "codemirror_mode": {
    "name": "ipython",
    "version": 3
   },
   "file_extension": ".py",
   "mimetype": "text/x-python",
   "name": "python",
   "nbconvert_exporter": "python",
   "pygments_lexer": "ipython3",
   "version": "3.13.2"
  }
 },
 "nbformat": 4,
 "nbformat_minor": 5
}
