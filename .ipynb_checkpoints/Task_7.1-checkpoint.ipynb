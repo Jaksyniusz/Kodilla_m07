{
 "cells": [
  {
   "cell_type": "markdown",
   "id": "8c0c1cb0-8e21-4c51-8e18-bd561e1fb4b7",
   "metadata": {},
   "source": [
    "### Jak tworzymy funkcję w Pythonie?\n",
    "\n",
    "W Pythonie funkcje tworzymy za pomocą słowa kluczowego `def`. Składnia wygląda następująco:"
   ]
  },
  {
   "cell_type": "code",
   "execution_count": 13,
   "id": "58c171bb-398a-4a41-a99d-e213c850d531",
   "metadata": {},
   "outputs": [],
   "source": [
    "def nazwa_funkcji(argumenty):\n",
    "    # Kod funkcji\n",
    "    return wynik"
   ]
  },
  {
   "cell_type": "markdown",
   "id": "1537d9bc-c30c-434b-89c2-00976c286d23",
   "metadata": {},
   "source": [
    "#### Przykład funkcji"
   ]
  },
  {
   "cell_type": "code",
   "execution_count": 15,
   "id": "4651593f-b34d-4c3f-bcfd-c8dbd5641b83",
   "metadata": {},
   "outputs": [],
   "source": [
    "# Przykład funkcji dodającej dwie liczby\n",
    "def dodaj(a, b):\n",
    "    wynik = a + b\n",
    "    return wynik"
   ]
  },
  {
   "cell_type": "markdown",
   "id": "134899ac-af68-4f8b-a239-c07912dec566",
   "metadata": {},
   "source": [
    "### Jak wywołujemy funkcję?\n",
    "\n",
    "Aby wywołać funkcję, używamy jej nazwy, a następnie nawiasów okrągłych `()`. W nawiasach przekazujemy argumenty (jeśli funkcja ich wymaga). Na przykład:"
   ]
  },
  {
   "cell_type": "code",
   "execution_count": 17,
   "id": "080f7ec9-19af-4b77-a75b-95b9a89c9276",
   "metadata": {},
   "outputs": [],
   "source": [
    "wynik = dodaj(3, 5)"
   ]
  },
  {
   "cell_type": "markdown",
   "id": "68dfee97-01e3-4ec2-a62c-aaee835e7e21",
   "metadata": {},
   "source": [
    "#### Wywołanie funkcji"
   ]
  },
  {
   "cell_type": "code",
   "execution_count": 22,
   "id": "0eb0ebba-7150-4b49-a6a6-e9d196967ea8",
   "metadata": {},
   "outputs": [
    {
     "name": "stdout",
     "output_type": "stream",
     "text": [
      "Wynik dodawania to: 8\n"
     ]
    }
   ],
   "source": [
    "# Wywołanie funkcji dodaj\n",
    "wynik = dodaj(3, 5)\n",
    "print(\"Wynik dodawania to:\", wynik)"
   ]
  },
  {
   "cell_type": "markdown",
   "id": "ac0d4c9b-93c2-4f6d-9520-432c447a9c8e",
   "metadata": {},
   "source": []
  }
 ],
 "metadata": {
  "kernelspec": {
   "display_name": "Python [conda env:base] *",
   "language": "python",
   "name": "conda-base-py"
  },
  "language_info": {
   "codemirror_mode": {
    "name": "ipython",
    "version": 3
   },
   "file_extension": ".py",
   "mimetype": "text/x-python",
   "name": "python",
   "nbconvert_exporter": "python",
   "pygments_lexer": "ipython3",
   "version": "3.12.7"
  }
 },
 "nbformat": 4,
 "nbformat_minor": 5
}
