{
 "cells": [
  {
   "cell_type": "code",
   "execution_count": 2,
   "id": "a9bb74b6-7439-4edd-a5cd-45627aec0baf",
   "metadata": {},
   "outputs": [
    {
     "data": {
      "text/plain": [
       "array([(b'Student D', 83, 92), (b'Student A', 89, 74),\n",
       "       (b'Student B', 85, 56), (b'Student C', 93, 44)],\n",
       "      dtype=[('student', 'S10'), ('exam1', '<i8'), ('exam2', '<i8')])"
      ]
     },
     "execution_count": 2,
     "metadata": {},
     "output_type": "execute_result"
    }
   ],
   "source": [
    "import numpy as np\n",
    "dt = np.dtype([('student','S10'),('exam1',int),('exam2',int)])\n",
    "\n",
    "a = np.array([(\"Student A\",89,74),(\"Student B\",85,56),\n",
    "              (\"Student C\", 93,44), (\"Student D\",83,92)],dtype=dt)\n",
    "a_min_ex2 = np.sort(a,order='exam2')[::-1]\n",
    "a_min_ex2"
   ]
  },
  {
   "cell_type": "code",
   "execution_count": null,
   "id": "dacb6c99-a64a-4a3c-976c-06d4ac38fb25",
   "metadata": {},
   "outputs": [],
   "source": []
  }
 ],
 "metadata": {
  "kernelspec": {
   "display_name": "Python 3 (ipykernel)",
   "language": "python",
   "name": "python3"
  },
  "language_info": {
   "codemirror_mode": {
    "name": "ipython",
    "version": 3
   },
   "file_extension": ".py",
   "mimetype": "text/x-python",
   "name": "python",
   "nbconvert_exporter": "python",
   "pygments_lexer": "ipython3",
   "version": "3.13.2"
  }
 },
 "nbformat": 4,
 "nbformat_minor": 5
}
