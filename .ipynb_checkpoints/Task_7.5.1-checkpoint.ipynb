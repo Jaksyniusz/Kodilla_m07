{
 "cells": [
  {
   "cell_type": "code",
   "execution_count": 1,
   "id": "736e6ef6-67d2-4832-ac44-250e9f150413",
   "metadata": {},
   "outputs": [
    {
     "name": "stdout",
     "output_type": "stream",
     "text": [
      "Indeksy niezerowych elementów:\n",
      "(array([0, 1, 4]),)\n"
     ]
    }
   ],
   "source": [
    "import numpy as np\n",
    "\n",
    "# Tworzenie tablicy\n",
    "array = np.array([1, 2, 0, 0, 4, 0])\n",
    "\n",
    "# Znajdowanie indeksów niezerowych elementów\n",
    "indeksy_niezerowych = np.nonzero(array)\n",
    "\n",
    "print(\"Indeksy niezerowych elementów:\")\n",
    "print(indeksy_niezerowych)"
   ]
  },
  {
   "cell_type": "code",
   "execution_count": null,
   "id": "f0146640-5fee-4ae6-872f-30c941e278ee",
   "metadata": {},
   "outputs": [],
   "source": []
  }
 ],
 "metadata": {
  "kernelspec": {
   "display_name": "Python 3 (ipykernel)",
   "language": "python",
   "name": "python3"
  },
  "language_info": {
   "codemirror_mode": {
    "name": "ipython",
    "version": 3
   },
   "file_extension": ".py",
   "mimetype": "text/x-python",
   "name": "python",
   "nbconvert_exporter": "python",
   "pygments_lexer": "ipython3",
   "version": "3.13.2"
  }
 },
 "nbformat": 4,
 "nbformat_minor": 5
}
