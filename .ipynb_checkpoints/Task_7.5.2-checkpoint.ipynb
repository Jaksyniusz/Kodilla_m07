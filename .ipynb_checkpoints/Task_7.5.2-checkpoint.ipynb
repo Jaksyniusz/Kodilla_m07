{
 "cells": [
  {
   "cell_type": "code",
   "execution_count": 1,
   "id": "f2b9ef65-fa52-4984-9dd3-a3cabe370281",
   "metadata": {},
   "outputs": [
    {
     "name": "stdout",
     "output_type": "stream",
     "text": [
      "Przefiltrowana macierz:\n",
      "[ 0  5 20 25 30 35 45]\n"
     ]
    }
   ],
   "source": [
    "import numpy as np\n",
    "\n",
    "# Tworzenie macierzy\n",
    "arr = np.arange(0, 50, 5)\n",
    "\n",
    "# Filtrowanie wartości\n",
    "filtered_arr = arr[(arr < 10) | ((arr >= 20) & (arr != 40))]\n",
    "\n",
    "print(\"Przefiltrowana macierz:\")\n",
    "print(filtered_arr)"
   ]
  },
  {
   "cell_type": "code",
   "execution_count": 2,
   "id": "00b0ffde-a8de-47f8-bab7-feca11c02e17",
   "metadata": {},
   "outputs": [
    {
     "name": "stdout",
     "output_type": "stream",
     "text": [
      "Macierz z użyciem XOR:\n",
      "[[False  True  True  True]\n",
      " [ True False  True  True]\n",
      " [ True  True False  True]\n",
      " [ True  True  True False]]\n"
     ]
    }
   ],
   "source": [
    "import numpy as np\n",
    "\n",
    "# Tworzenie macierzy z wartościami True\n",
    "matrix = np.ones((4, 4), dtype=bool)\n",
    "\n",
    "# Ustawienie wartości False na głównej przekątnej\n",
    "np.fill_diagonal(matrix, False)\n",
    "\n",
    "print(\"Macierz z użyciem XOR:\")\n",
    "print(matrix)"
   ]
  },
  {
   "cell_type": "code",
   "execution_count": 3,
   "id": "d8f9dfee-f354-4f89-a9fd-3b52b314e40b",
   "metadata": {},
   "outputs": [
    {
     "name": "stdout",
     "output_type": "stream",
     "text": [
      "Macierz z użyciem XOR:\n",
      "[[False  True  True  True]\n",
      " [ True False  True  True]\n",
      " [ True  True False  True]\n",
      " [ True  True  True False]]\n"
     ]
    }
   ],
   "source": [
    "import numpy as np\n",
    "\n",
    "# Tworzenie macierzy z wartościami True\n",
    "matrix = np.ones((4, 4), dtype=bool)\n",
    "\n",
    "# Tworzenie macierzy z wartościami False na przekątnej\n",
    "diagonal_matrix = np.eye(4, dtype=bool)\n",
    "\n",
    "# Użycie operatora XOR\n",
    "result_matrix = matrix ^ diagonal_matrix\n",
    "\n",
    "print(\"Macierz z użyciem XOR:\")\n",
    "print(result_matrix)"
   ]
  },
  {
   "cell_type": "code",
   "execution_count": null,
   "id": "b4669150-d254-4c73-a251-1acc3be1f266",
   "metadata": {},
   "outputs": [],
   "source": []
  }
 ],
 "metadata": {
  "kernelspec": {
   "display_name": "Python 3 (ipykernel)",
   "language": "python",
   "name": "python3"
  },
  "language_info": {
   "codemirror_mode": {
    "name": "ipython",
    "version": 3
   },
   "file_extension": ".py",
   "mimetype": "text/x-python",
   "name": "python",
   "nbconvert_exporter": "python",
   "pygments_lexer": "ipython3",
   "version": "3.13.2"
  }
 },
 "nbformat": 4,
 "nbformat_minor": 5
}
