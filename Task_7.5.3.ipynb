{
 "cells": [
  {
   "cell_type": "markdown",
   "id": "de868bbd-fb61-44de-8fd0-0d0d3fb00285",
   "metadata": {},
   "source": [
    "# Ćwiczenie\n",
    "### Zadanie 1\n",
    "Zwróć z macierzy arr wiersz o indeksie nr 2, lecz tylko dla tych kolumn, których suma przekracza 30.<br>"
   ]
  },
  {
   "cell_type": "code",
   "execution_count": 8,
   "id": "c769df0f-d21a-4419-9601-31fb0acbb5b9",
   "metadata": {},
   "outputs": [
    {
     "name": "stdout",
     "output_type": "stream",
     "text": [
      "[[ 0  1  2  3  4]\n",
      " [ 5  6  7  8  9]\n",
      " [10 11 12 13 14]\n",
      " [15 16 17 18 19]]\n",
      "Wiersz o indeksie 2 dla kolumn z sumą > 30:\n",
      "[11 12 13 14]\n"
     ]
    }
   ],
   "source": [
    "import numpy as np\n",
    "\n",
    "# Tworzenie macierzy\n",
    "arr = np.arange(20).reshape(4, 5)\n",
    "print(arr)\n",
    "\n",
    "# Obliczenie sumy każdej kolumny\n",
    "column_sums = np.sum(arr, axis=0)\n",
    "\n",
    "# Sprawdzenie, które kolumny mają sumę większą niż 30\n",
    "columns_to_keep = column_sums > 30\n",
    "\n",
    "# Wybranie wiersza o indeksie 2, ale tylko dla kolumn z sumą > 30\n",
    "result = arr[2, columns_to_keep]\n",
    "\n",
    "# alternatywnie arr[2, arr.sum(axis=0)>30]\n",
    "print(\"Wiersz o indeksie 2 dla kolumn z sumą > 30:\")\n",
    "print(result)"
   ]
  },
  {
   "cell_type": "markdown",
   "id": "f9ba5c27-362e-49c6-b38c-b3c377290422",
   "metadata": {},
   "source": [
    "### Zadanie 2\n",
    "Mamy dane dwie tablice: a i b. Stwórz program filtrujący wartości z b, które korespondują z elementami a i są większe od 100 i mniejsze od 110.<br>\n",
    "<prep>\n",
    "a = np.array([97,101,105,111,117,125])<br>\n",
    "b = np.array(['a','e','i','o','u','y'])<br>\n",
    "</prep>"
   ]
  },
  {
   "cell_type": "code",
   "execution_count": 10,
   "id": "5db3757d-a83e-4079-bb7a-9e90298ab300",
   "metadata": {},
   "outputs": [
    {
     "name": "stdout",
     "output_type": "stream",
     "text": [
      "Przefiltrowane wartości z b:\n",
      "['e' 'i']\n"
     ]
    }
   ],
   "source": [
    "import numpy as np\n",
    "\n",
    "# Dane wejściowe\n",
    "a = np.array([97, 101, 105, 111, 117, 125])\n",
    "b = np.array(['a', 'e', 'i', 'o', 'u', 'y'])\n",
    "\n",
    "# Warunek: elementy z a większe niż 100 i mniejsze niż 110\n",
    "condition = (a > 100) & (a < 110)\n",
    "\n",
    "# Filtrowanie wartości z b na podstawie warunku\n",
    "filtered_b = b[condition]\n",
    "\n",
    "# alternatywnie filtered_b = b[(a > 100) & (a < 110)]\n",
    "print(\"Przefiltrowane wartości z b:\")\n",
    "print(filtered_b)"
   ]
  },
  {
   "cell_type": "markdown",
   "id": "d77ae85a-f61d-4c71-906d-cebc105e11b6",
   "metadata": {},
   "source": [
    "### Zadanie 3\n",
    "Stwórz program, który ze wskazanej macierzy wyciągnie odpowiednio najmniejszą i największą wartość dla każdego wiersza.<br>\n",
    "<prep>\n",
    "[[0 4 1]<br>\n",
    "[2 0 4]]<br>\n",
    "</prep>"
   ]
  },
  {
   "cell_type": "code",
   "execution_count": 12,
   "id": "447db908-ad1f-41d2-8ce4-3688543f9b82",
   "metadata": {},
   "outputs": [
    {
     "name": "stdout",
     "output_type": "stream",
     "text": [
      "Najmniejsze wartości dla każdego wiersza:\n",
      "[0 0]\n",
      "\n",
      "Największe wartości dla każdego wiersza:\n",
      "[4 4]\n"
     ]
    }
   ],
   "source": [
    "import numpy as np\n",
    "\n",
    "# Tworzenie macierzy\n",
    "matrix = np.array([[0, 4, 1],\n",
    "                   [2, 0, 4]])\n",
    "\n",
    "# Znajdowanie najmniejszych wartości dla każdego wiersza\n",
    "min_values = np.min(matrix, axis=1)\n",
    "\n",
    "# Znajdowanie największych wartości dla każdego wiersza\n",
    "max_values = np.max(matrix, axis=1)\n",
    "\n",
    "print(\"Najmniejsze wartości dla każdego wiersza:\")\n",
    "print(min_values)\n",
    "\n",
    "print(\"\\nNajwiększe wartości dla każdego wiersza:\")\n",
    "print(max_values)"
   ]
  },
  {
   "cell_type": "markdown",
   "id": "8c1419c4-0abb-4cbf-a435-7bd7f04dd2f3",
   "metadata": {},
   "source": [
    "### Zadanie 4\n",
    "Mając tablicę np.arange(11), odwróć znak wszystkich elementów większych od 3 i mniejszych od 8.<br>"
   ]
  },
  {
   "cell_type": "code",
   "execution_count": 13,
   "id": "fc76cdaa-2a00-411f-88ce-5890d4bda346",
   "metadata": {},
   "outputs": [
    {
     "name": "stdout",
     "output_type": "stream",
     "text": [
      "Tablica po odwróceniu znaków:\n",
      "[ 0  1  2  3 -4 -5 -6 -7  8  9 10]\n"
     ]
    }
   ],
   "source": [
    "import numpy as np\n",
    "\n",
    "# Tworzenie tablicy\n",
    "arr = np.arange(11)\n",
    "\n",
    "# Warunek: elementy większe niż 3 i mniejsze niż 8\n",
    "condition = (arr > 3) & (arr < 8)\n",
    "\n",
    "# Odwrócenie znaku elementów spełniających warunek\n",
    "arr[condition] = -arr[condition]\n",
    "\n",
    "print(\"Tablica po odwróceniu znaków:\")\n",
    "print(arr)"
   ]
  },
  {
   "cell_type": "code",
   "execution_count": null,
   "id": "50ed2541-c75d-4788-b77c-1cdb59df1e8c",
   "metadata": {},
   "outputs": [],
   "source": []
  }
 ],
 "metadata": {
  "kernelspec": {
   "display_name": "Python 3 (ipykernel)",
   "language": "python",
   "name": "python3"
  },
  "language_info": {
   "codemirror_mode": {
    "name": "ipython",
    "version": 3
   },
   "file_extension": ".py",
   "mimetype": "text/x-python",
   "name": "python",
   "nbconvert_exporter": "python",
   "pygments_lexer": "ipython3",
   "version": "3.13.2"
  }
 },
 "nbformat": 4,
 "nbformat_minor": 5
}
