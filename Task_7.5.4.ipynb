{
 "cells": [
  {
   "cell_type": "code",
   "execution_count": null,
   "id": "21e56673-a794-49dc-989f-fb486429f214",
   "metadata": {},
   "outputs": [],
   "source": [
    "import numpy as np\n",
    "\n",
    "# Zadanie 1\n",
    "Z = np.random.uniform(0, 1, 10)\n",
    "print(\"Wektor Z:\", Z)\n",
    "\n",
    "distances = np.abs(Z - 0.5)\n",
    "closest_index = np.argmin(distances)\n",
    "closest_value = Z[closest_index]\n",
    "\n",
    "print(\"Element najbliższy 0.5:\", closest_value)\n",
    "\n",
    "\n",
    "# Zadanie 2\n",
    "vector = np.random.rand(20)\n",
    "print(\"\\nWektor przed zamianą:\", vector)\n",
    "\n",
    "max_index = np.argmax(vector)\n",
    "vector[max_index] = 0\n",
    "\n",
    "print(\"Wektor po zamianie:\", vector)\n",
    "\n",
    "\n",
    "# Zadanie 3 - wariant 1\n",
    "# Tworzenie tablicy\n",
    "arr = np.array([5, 0.0249139, 0.11873564, 0., 0.72321586, 11308494, 0.29931472, 0.24439968, 0.61251754, 4])\n",
    "\n",
    "# Sprawdzenie, które elementy są całkowite\n",
    "is_integer = arr == np.floor(arr)\n",
    "\n",
    "# Wybranie tylko liczb całkowitych\n",
    "integer_values = arr[is_integer]\n",
    "\n",
    "print(\"Liczby całkowite w tablicy:\", integer_values)\n",
    "\n",
    "\n",
    "# Zadanie 3 - wariant 1\n",
    "# Sprawdzenie, które elementy są \"bliskie\" liczbie całkowitej\n",
    "is_integer = np.isclose(arr, np.floor(arr))\n",
    "\n",
    "# Wybranie tylko liczb całkowitych\n",
    "integer_values = arr[is_integer]\n",
    "\n",
    "print(\"Liczby całkowite w tablicy (z użyciem np.isclose):\", integer_values)"
   ]
  }
 ],
 "metadata": {
  "kernelspec": {
   "display_name": "Python 3 (ipykernel)",
   "language": "python",
   "name": "python3"
  },
  "language_info": {
   "codemirror_mode": {
    "name": "ipython",
    "version": 3
   },
   "file_extension": ".py",
   "mimetype": "text/x-python",
   "name": "python",
   "nbconvert_exporter": "python",
   "pygments_lexer": "ipython3",
   "version": "3.13.2"
  }
 },
 "nbformat": 4,
 "nbformat_minor": 5
}
