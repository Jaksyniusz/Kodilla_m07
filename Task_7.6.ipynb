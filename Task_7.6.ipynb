{
 "cells": [
  {
   "cell_type": "markdown",
   "id": "ee185d30-591e-44c7-a118-10ac7352710f",
   "metadata": {},
   "source": [
    "### Zadanie: kupujemy mieszkanie\n",
    "\n",
    "Zamierzasz kupić mieszkanie. Upatrzone M kosztuje w tym momencie 120 tys. zł, jednak przewidujesz, że przez następne 5 lat ceny mieszkań będą rosły w tempie 5% rocznie. W tym momencie nie dysponujesz wystarczającymi środkami, dlatego znajdujesz ofertę banku, który proponuje lokatę, do której dopłacasz pewna stałą kwotę na koniec każdego miesiąca. Bank oferuje nominalną stopę procentową w wysokości 12% w skali roku, przy kapitalizacji miesięcznej.<br>\n",
    "1) Ile będzie wynosiła orientacyjna cena mieszkania za 5 lat?\n",
    "2) Ile musisz wpłacać do banku każdego miesiąca, aby przy przedstawionej ofercie uzbierać na mieszkanie w ciągu 5 lat?\n",
    "3) Stwórz wykres przedstawiający, jak w interwałach miesięcznych zmieniać się będzie cena mieszkania (liniowy wzrost w całym okresie) oraz wartość twojej lokaty.<br>\n",
    "######\n",
    "Do wykonania powyższego zadania wykorzystaj biblioteki NumPy, NumPy-financial oraz Matplotlib. Odpowiedzi na pytania umieść w Notebooku (jeśli korzystasz) lub w komentarzach w kodzie."
   ]
  },
  {
   "cell_type": "code",
   "execution_count": 1,
   "id": "1991f363-9bbd-47df-8ca6-3a6943fcd578",
   "metadata": {},
   "outputs": [
    {
     "ename": "ModuleNotFoundError",
     "evalue": "No module named 'numpy_financial'",
     "output_type": "error",
     "traceback": [
      "\u001b[1;31m---------------------------------------------------------------------------\u001b[0m",
      "\u001b[1;31mModuleNotFoundError\u001b[0m                       Traceback (most recent call last)",
      "Cell \u001b[1;32mIn[1], line 2\u001b[0m\n\u001b[0;32m      1\u001b[0m \u001b[38;5;28;01mimport\u001b[39;00m\u001b[38;5;250m \u001b[39m\u001b[38;5;21;01mnumpy\u001b[39;00m\u001b[38;5;250m \u001b[39m\u001b[38;5;28;01mas\u001b[39;00m\u001b[38;5;250m \u001b[39m\u001b[38;5;21;01mnp\u001b[39;00m\n\u001b[1;32m----> 2\u001b[0m \u001b[38;5;28;01mimport\u001b[39;00m\u001b[38;5;250m \u001b[39m\u001b[38;5;21;01mnumpy_financial\u001b[39;00m\u001b[38;5;250m \u001b[39m\u001b[38;5;28;01mas\u001b[39;00m\u001b[38;5;250m \u001b[39m\u001b[38;5;21;01mnpf\u001b[39;00m\n\u001b[0;32m      3\u001b[0m \u001b[38;5;28;01mimport\u001b[39;00m\u001b[38;5;250m \u001b[39m\u001b[38;5;21;01mmatplotlib\u001b[39;00m\u001b[38;5;21;01m.\u001b[39;00m\u001b[38;5;21;01mpyplot\u001b[39;00m\u001b[38;5;250m \u001b[39m\u001b[38;5;28;01mas\u001b[39;00m\u001b[38;5;250m \u001b[39m\u001b[38;5;21;01mplt\u001b[39;00m\n\u001b[0;32m      5\u001b[0m \u001b[38;5;66;03m# Dane\u001b[39;00m\n",
      "\u001b[1;31mModuleNotFoundError\u001b[0m: No module named 'numpy_financial'"
     ]
    }
   ],
   "source": [
    "import numpy as np\n",
    "import numpy_financial as npf\n",
    "import matplotlib.pyplot as plt\n",
    "\n",
    "# Dane\n",
    "initial_price = 120000  # Początkowa cena mieszkania w zł\n",
    "annual_growth_rate = 0.05  # Roczny wzrost ceny mieszkań (5%)\n",
    "years = 5  # Okres w latach\n",
    "months = years * 12  # Okres w miesiącach\n",
    "\n",
    "# 1. Obliczenie przyszłej ceny mieszkania\n",
    "future_price = initial_price * (1 + annual_growth_rate) ** years\n",
    "print(f\"Cena mieszkania za {years} lat: {future_price:.2f} zł\")\n",
    "\n",
    "# 2. Obliczenie miesięcznej wpłaty na lokatę\n",
    "annual_interest_rate = 0.12  # Roczna stopa procentowa (12%)\n",
    "monthly_interest_rate = annual_interest_rate / 12  # Miesięczna stopa procentowa\n",
    "monthly_payment = -npf.pmt(monthly_interest_rate, months, 0, future_price)\n",
    "print(f\"Miesięczna wpłata na lokatę: {monthly_payment:.2f} zł\")\n",
    "\n",
    "# 3. Tworzenie wykresu\n",
    "# Cena mieszkania w każdym miesiącu\n",
    "monthly_growth_rate = (1 + annual_growth_rate) ** (1 / 12) - 1  # Miesięczny wzrost ceny\n",
    "price_over_time = initial_price * (1 + monthly_growth_rate) ** np.arange(months)\n",
    "\n",
    "# Wartość lokaty w każdym miesiącu\n",
    "investment_value = npf.fv(monthly_interest_rate, np.arange(months), -monthly_payment, 0)\n",
    "\n",
    "# Wykres\n",
    "plt.figure(figsize=(10, 6))\n",
    "plt.plot(np.arange(months), price_over_time, label=\"Cena mieszkania\", color=\"blue\")\n",
    "plt.plot(np.arange(months), investment_value, label=\"Wartość lokaty\", color=\"green\")\n",
    "plt.xlabel(\"Miesiące\")\n",
    "plt.ylabel(\"Wartość (zł)\")\n",
    "plt.title(\"Wzrost ceny mieszkania a wartość lokaty w czasie\")\n",
    "plt.legend()\n",
    "plt.grid(True)\n",
    "plt.show()"
   ]
  },
  {
   "cell_type": "markdown",
   "id": "af00f8b6-42b7-4e81-99bc-4681b6a2f368",
   "metadata": {},
   "source": [
    "## Wyniki:\n",
    "### 1. Cena mieszkania za 5 lat:\n",
    "\n",
    "Cena mieszkania za 5 lat: 153153.79 zł\n",
    "\n",
    "### 2. Miesięczna wpłata na lokatę:\n",
    "\n",
    "Miesięczna wpłata na lokatę: 1862.47 zł\n",
    "\n",
    "### 3. Wykres:\n",
    "\n",
    "    Niebieska linia: Pokazuje wzrost ceny mieszkania w czasie.\n",
    "\n",
    "    Zielona linia: Pokazuje wartość lokaty w każdym miesiącu.\n",
    "\n",
    "### Wyjaśnienie wykresu:\n",
    "\n",
    "    Cena mieszkania: Rośnie wykładniczo w tempie 5% rocznie.\n",
    "\n",
    "    Wartość lokaty: Rośnie dzięki miesięcznym wpłatom i kapitalizacji odsetek.\n",
    "\n",
    "### Podsumowanie:\n",
    "\n",
    "    Za 5 lat mieszkanie będzie kosztować około 153 153,79 zł.\n",
    "\n",
    "    Aby uzbierać tę kwotę, musisz wpłacać około 1862,47 zł miesięcznie na lokatę.\n",
    "\n",
    "    Wykres pokazuje, jak cena mieszkania i wartość lokaty zmieniają się w czasie."
   ]
  },
  {
   "cell_type": "code",
   "execution_count": null,
   "id": "58913d48-e019-46db-8bdd-51071bece0d0",
   "metadata": {},
   "outputs": [],
   "source": []
  }
 ],
 "metadata": {
  "kernelspec": {
   "display_name": "Python 3 (ipykernel)",
   "language": "python",
   "name": "python3"
  },
  "language_info": {
   "codemirror_mode": {
    "name": "ipython",
    "version": 3
   },
   "file_extension": ".py",
   "mimetype": "text/x-python",
   "name": "python",
   "nbconvert_exporter": "python",
   "pygments_lexer": "ipython3",
   "version": "3.13.2"
  }
 },
 "nbformat": 4,
 "nbformat_minor": 5
}
